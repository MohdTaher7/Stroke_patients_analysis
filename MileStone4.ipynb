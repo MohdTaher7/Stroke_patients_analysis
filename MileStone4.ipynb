{
 "cells": [
  {
   "cell_type": "code",
   "execution_count": 146,
   "id": "ac7c4e82-caa2-4410-aebe-0ba289e54750",
   "metadata": {},
   "outputs": [],
   "source": [
    "import numpy as np\n",
    "import pandas as pd\n",
    "import matplotlib.pyplot as plt\n",
    "import seaborn as sns\n",
    "import warnings\n",
    "warnings.filterwarnings('ignore')\n",
    "import datetime as dt\n",
    "from sklearn.linear_model import LogisticRegression\n",
    "from sklearn.model_selection import train_test_split\n",
    "from sklearn.metrics import accuracy_score\n",
    "from sklearn.linear_model import Ridge\n",
    "from sklearn.linear_model import Lasso\n",
    "from sklearn.linear_model import LinearRegression\n",
    "from sklearn.metrics import mean_squared_error"
   ]
  },
  {
   "cell_type": "code",
   "execution_count": 147,
   "id": "eeadf3cf-ac96-4696-9524-21049783f0c8",
   "metadata": {},
   "outputs": [],
   "source": [
    "df=pd.read_csv(\"healthcare-dataset-stroke-data.csv\")"
   ]
  },
  {
   "cell_type": "code",
   "execution_count": 148,
   "id": "9e98b801-edd0-46a9-a2ce-9cf28f364ef3",
   "metadata": {},
   "outputs": [],
   "source": [
    "# Handling missing values for the 'bmi' column by assigning the result back\n",
    "df['bmi'] = df['bmi'].fillna(df['bmi'].median())"
   ]
  },
  {
   "cell_type": "markdown",
   "id": "103dea4e-183d-45f9-9eb2-429439d65d5a",
   "metadata": {},
   "source": [
    "# Data encoding\n",
    "let's analyse data and convert data in 0's and 1's from  because the model knows only 0's and 1's values. "
   ]
  },
  {
   "cell_type": "code",
   "execution_count": 150,
   "id": "96e3ed48-4844-4adc-8f69-c3900d9af88f",
   "metadata": {},
   "outputs": [],
   "source": [
    "df['Residence_type'] = df['Residence_type'].apply(lambda x: 1 if x == 'Urban' else 0)"
   ]
  },
  {
   "cell_type": "code",
   "execution_count": 151,
   "id": "03d4665e-2d4f-47c6-a52d-a8108032e895",
   "metadata": {},
   "outputs": [],
   "source": [
    "df['Urban/Rural'] = df['Residence_type'].apply(lambda x: 1 if x == 'Urban' else 0)\n",
    "\n",
    "\n",
    "df['work_type_Never_worked'] = df['work_type'].apply(lambda x: 1 if x == 'Never_worked' else 0)\n",
    "df['work_type_Private'] = df['work_type'].apply(lambda x: 1 if x == 'Private' else 0)\n",
    "df['work_type_Self_employed'] = df['work_type'].apply(lambda x: 1 if x == 'Self-employed' else 0)\n",
    "\n",
    "\n",
    "df['smoking_status_formerly_smoked'] = df['smoking_status'].apply(lambda x: 1 if x == 'formerly smoked' else 0)\n",
    "df['smoking_status_never_smoked'] = df['smoking_status'].apply(lambda x: 1 if x == 'never smoked' else 0)\n",
    "df['smoking_status_smokes'] = df['smoking_status'].apply(lambda x: 1 if x == 'smokes' else 0)\n",
    "\n",
    "df_model = df.copy()\n",
    "\n",
    "df_model.drop(['Residence_type', 'work_type', 'smoking_status', 'gender', 'ever_married','id'], axis=1, inplace=True)"
   ]
  },
  {
   "cell_type": "code",
   "execution_count": 121,
   "id": "baadf6db-2e1c-4e9b-986e-d8032ddec4ef",
   "metadata": {},
   "outputs": [
    {
     "data": {
      "text/html": [
       "<div>\n",
       "<style scoped>\n",
       "    .dataframe tbody tr th:only-of-type {\n",
       "        vertical-align: middle;\n",
       "    }\n",
       "\n",
       "    .dataframe tbody tr th {\n",
       "        vertical-align: top;\n",
       "    }\n",
       "\n",
       "    .dataframe thead th {\n",
       "        text-align: right;\n",
       "    }\n",
       "</style>\n",
       "<table border=\"1\" class=\"dataframe\">\n",
       "  <thead>\n",
       "    <tr style=\"text-align: right;\">\n",
       "      <th></th>\n",
       "      <th>age</th>\n",
       "      <th>hypertension</th>\n",
       "      <th>heart_disease</th>\n",
       "      <th>avg_glucose_level</th>\n",
       "      <th>bmi</th>\n",
       "      <th>stroke</th>\n",
       "      <th>Urban/Rural</th>\n",
       "      <th>work_type_Never_worked</th>\n",
       "      <th>work_type_Private</th>\n",
       "      <th>work_type_Self_employed</th>\n",
       "      <th>smoking_status_formerly_smoked</th>\n",
       "      <th>smoking_status_never_smoked</th>\n",
       "      <th>smoking_status_smokes</th>\n",
       "    </tr>\n",
       "  </thead>\n",
       "  <tbody>\n",
       "    <tr>\n",
       "      <th>0</th>\n",
       "      <td>67.0</td>\n",
       "      <td>0</td>\n",
       "      <td>1</td>\n",
       "      <td>228.69</td>\n",
       "      <td>36.6</td>\n",
       "      <td>1</td>\n",
       "      <td>0</td>\n",
       "      <td>0</td>\n",
       "      <td>1</td>\n",
       "      <td>0</td>\n",
       "      <td>1</td>\n",
       "      <td>0</td>\n",
       "      <td>0</td>\n",
       "    </tr>\n",
       "    <tr>\n",
       "      <th>1</th>\n",
       "      <td>61.0</td>\n",
       "      <td>0</td>\n",
       "      <td>0</td>\n",
       "      <td>202.21</td>\n",
       "      <td>28.1</td>\n",
       "      <td>1</td>\n",
       "      <td>0</td>\n",
       "      <td>0</td>\n",
       "      <td>0</td>\n",
       "      <td>1</td>\n",
       "      <td>0</td>\n",
       "      <td>1</td>\n",
       "      <td>0</td>\n",
       "    </tr>\n",
       "    <tr>\n",
       "      <th>2</th>\n",
       "      <td>80.0</td>\n",
       "      <td>0</td>\n",
       "      <td>1</td>\n",
       "      <td>105.92</td>\n",
       "      <td>32.5</td>\n",
       "      <td>1</td>\n",
       "      <td>0</td>\n",
       "      <td>0</td>\n",
       "      <td>1</td>\n",
       "      <td>0</td>\n",
       "      <td>0</td>\n",
       "      <td>1</td>\n",
       "      <td>0</td>\n",
       "    </tr>\n",
       "    <tr>\n",
       "      <th>3</th>\n",
       "      <td>49.0</td>\n",
       "      <td>0</td>\n",
       "      <td>0</td>\n",
       "      <td>171.23</td>\n",
       "      <td>34.4</td>\n",
       "      <td>1</td>\n",
       "      <td>0</td>\n",
       "      <td>0</td>\n",
       "      <td>1</td>\n",
       "      <td>0</td>\n",
       "      <td>0</td>\n",
       "      <td>0</td>\n",
       "      <td>1</td>\n",
       "    </tr>\n",
       "    <tr>\n",
       "      <th>4</th>\n",
       "      <td>79.0</td>\n",
       "      <td>1</td>\n",
       "      <td>0</td>\n",
       "      <td>174.12</td>\n",
       "      <td>24.0</td>\n",
       "      <td>1</td>\n",
       "      <td>0</td>\n",
       "      <td>0</td>\n",
       "      <td>0</td>\n",
       "      <td>1</td>\n",
       "      <td>0</td>\n",
       "      <td>1</td>\n",
       "      <td>0</td>\n",
       "    </tr>\n",
       "  </tbody>\n",
       "</table>\n",
       "</div>"
      ],
      "text/plain": [
       "    age  hypertension  heart_disease  avg_glucose_level   bmi  stroke  \\\n",
       "0  67.0             0              1             228.69  36.6       1   \n",
       "1  61.0             0              0             202.21  28.1       1   \n",
       "2  80.0             0              1             105.92  32.5       1   \n",
       "3  49.0             0              0             171.23  34.4       1   \n",
       "4  79.0             1              0             174.12  24.0       1   \n",
       "\n",
       "   Urban/Rural  work_type_Never_worked  work_type_Private  \\\n",
       "0            0                       0                  1   \n",
       "1            0                       0                  0   \n",
       "2            0                       0                  1   \n",
       "3            0                       0                  1   \n",
       "4            0                       0                  0   \n",
       "\n",
       "   work_type_Self_employed  smoking_status_formerly_smoked  \\\n",
       "0                        0                               1   \n",
       "1                        1                               0   \n",
       "2                        0                               0   \n",
       "3                        0                               0   \n",
       "4                        1                               0   \n",
       "\n",
       "   smoking_status_never_smoked  smoking_status_smokes  \n",
       "0                            0                      0  \n",
       "1                            1                      0  \n",
       "2                            1                      0  \n",
       "3                            0                      1  \n",
       "4                            1                      0  "
      ]
     },
     "execution_count": 121,
     "metadata": {},
     "output_type": "execute_result"
    }
   ],
   "source": [
    "df_model.head(5)"
   ]
  },
  {
   "cell_type": "markdown",
   "id": "693b6f7c-71f3-4a5f-afef-1c9aba172f15",
   "metadata": {},
   "source": [
    "**Now we only have the data which is in the form of 0's & 1's**"
   ]
  },
  {
   "cell_type": "markdown",
   "id": "0c2e8652-2b11-4d7d-bef7-7a77e411189b",
   "metadata": {},
   "source": [
    "# Building ML Model"
   ]
  },
  {
   "cell_type": "markdown",
   "id": "4f16b726-f8f3-4fbe-add9-3f48078ef177",
   "metadata": {},
   "source": [
    "**Now,we can use it for traning a model**"
   ]
  },
  {
   "cell_type": "code",
   "execution_count": 152,
   "id": "209a8da4-19ca-4455-8e96-70629f71fc57",
   "metadata": {},
   "outputs": [
    {
     "data": {
      "text/html": [
       "<div>\n",
       "<style scoped>\n",
       "    .dataframe tbody tr th:only-of-type {\n",
       "        vertical-align: middle;\n",
       "    }\n",
       "\n",
       "    .dataframe tbody tr th {\n",
       "        vertical-align: top;\n",
       "    }\n",
       "\n",
       "    .dataframe thead th {\n",
       "        text-align: right;\n",
       "    }\n",
       "</style>\n",
       "<table border=\"1\" class=\"dataframe\">\n",
       "  <thead>\n",
       "    <tr style=\"text-align: right;\">\n",
       "      <th></th>\n",
       "      <th>age</th>\n",
       "      <th>hypertension</th>\n",
       "      <th>heart_disease</th>\n",
       "      <th>avg_glucose_level</th>\n",
       "      <th>bmi</th>\n",
       "      <th>Urban/Rural</th>\n",
       "      <th>work_type_Never_worked</th>\n",
       "      <th>work_type_Private</th>\n",
       "      <th>work_type_Self_employed</th>\n",
       "      <th>smoking_status_formerly_smoked</th>\n",
       "      <th>smoking_status_never_smoked</th>\n",
       "      <th>smoking_status_smokes</th>\n",
       "    </tr>\n",
       "  </thead>\n",
       "  <tbody>\n",
       "    <tr>\n",
       "      <th>141</th>\n",
       "      <td>59.0</td>\n",
       "      <td>0</td>\n",
       "      <td>0</td>\n",
       "      <td>116.44</td>\n",
       "      <td>23.8</td>\n",
       "      <td>0</td>\n",
       "      <td>0</td>\n",
       "      <td>1</td>\n",
       "      <td>0</td>\n",
       "      <td>0</td>\n",
       "      <td>0</td>\n",
       "      <td>1</td>\n",
       "    </tr>\n",
       "    <tr>\n",
       "      <th>928</th>\n",
       "      <td>23.0</td>\n",
       "      <td>1</td>\n",
       "      <td>0</td>\n",
       "      <td>70.03</td>\n",
       "      <td>78.0</td>\n",
       "      <td>0</td>\n",
       "      <td>0</td>\n",
       "      <td>1</td>\n",
       "      <td>0</td>\n",
       "      <td>0</td>\n",
       "      <td>0</td>\n",
       "      <td>1</td>\n",
       "    </tr>\n",
       "    <tr>\n",
       "      <th>2748</th>\n",
       "      <td>54.0</td>\n",
       "      <td>0</td>\n",
       "      <td>0</td>\n",
       "      <td>92.34</td>\n",
       "      <td>29.4</td>\n",
       "      <td>0</td>\n",
       "      <td>0</td>\n",
       "      <td>1</td>\n",
       "      <td>0</td>\n",
       "      <td>0</td>\n",
       "      <td>0</td>\n",
       "      <td>1</td>\n",
       "    </tr>\n",
       "    <tr>\n",
       "      <th>2048</th>\n",
       "      <td>57.0</td>\n",
       "      <td>0</td>\n",
       "      <td>0</td>\n",
       "      <td>84.18</td>\n",
       "      <td>35.5</td>\n",
       "      <td>0</td>\n",
       "      <td>0</td>\n",
       "      <td>1</td>\n",
       "      <td>0</td>\n",
       "      <td>0</td>\n",
       "      <td>1</td>\n",
       "      <td>0</td>\n",
       "    </tr>\n",
       "    <tr>\n",
       "      <th>185</th>\n",
       "      <td>63.0</td>\n",
       "      <td>0</td>\n",
       "      <td>0</td>\n",
       "      <td>137.30</td>\n",
       "      <td>31.7</td>\n",
       "      <td>0</td>\n",
       "      <td>0</td>\n",
       "      <td>1</td>\n",
       "      <td>0</td>\n",
       "      <td>1</td>\n",
       "      <td>0</td>\n",
       "      <td>0</td>\n",
       "    </tr>\n",
       "    <tr>\n",
       "      <th>...</th>\n",
       "      <td>...</td>\n",
       "      <td>...</td>\n",
       "      <td>...</td>\n",
       "      <td>...</td>\n",
       "      <td>...</td>\n",
       "      <td>...</td>\n",
       "      <td>...</td>\n",
       "      <td>...</td>\n",
       "      <td>...</td>\n",
       "      <td>...</td>\n",
       "      <td>...</td>\n",
       "      <td>...</td>\n",
       "    </tr>\n",
       "    <tr>\n",
       "      <th>2171</th>\n",
       "      <td>18.0</td>\n",
       "      <td>0</td>\n",
       "      <td>0</td>\n",
       "      <td>120.58</td>\n",
       "      <td>21.5</td>\n",
       "      <td>0</td>\n",
       "      <td>0</td>\n",
       "      <td>1</td>\n",
       "      <td>0</td>\n",
       "      <td>0</td>\n",
       "      <td>1</td>\n",
       "      <td>0</td>\n",
       "    </tr>\n",
       "    <tr>\n",
       "      <th>2064</th>\n",
       "      <td>73.0</td>\n",
       "      <td>0</td>\n",
       "      <td>0</td>\n",
       "      <td>82.13</td>\n",
       "      <td>28.5</td>\n",
       "      <td>0</td>\n",
       "      <td>0</td>\n",
       "      <td>1</td>\n",
       "      <td>0</td>\n",
       "      <td>0</td>\n",
       "      <td>1</td>\n",
       "      <td>0</td>\n",
       "    </tr>\n",
       "    <tr>\n",
       "      <th>4002</th>\n",
       "      <td>28.0</td>\n",
       "      <td>0</td>\n",
       "      <td>0</td>\n",
       "      <td>99.07</td>\n",
       "      <td>17.6</td>\n",
       "      <td>0</td>\n",
       "      <td>0</td>\n",
       "      <td>1</td>\n",
       "      <td>0</td>\n",
       "      <td>0</td>\n",
       "      <td>1</td>\n",
       "      <td>0</td>\n",
       "    </tr>\n",
       "    <tr>\n",
       "      <th>3602</th>\n",
       "      <td>49.0</td>\n",
       "      <td>0</td>\n",
       "      <td>0</td>\n",
       "      <td>104.08</td>\n",
       "      <td>26.6</td>\n",
       "      <td>0</td>\n",
       "      <td>0</td>\n",
       "      <td>0</td>\n",
       "      <td>0</td>\n",
       "      <td>0</td>\n",
       "      <td>1</td>\n",
       "      <td>0</td>\n",
       "    </tr>\n",
       "    <tr>\n",
       "      <th>3683</th>\n",
       "      <td>80.0</td>\n",
       "      <td>0</td>\n",
       "      <td>1</td>\n",
       "      <td>95.49</td>\n",
       "      <td>31.6</td>\n",
       "      <td>0</td>\n",
       "      <td>0</td>\n",
       "      <td>0</td>\n",
       "      <td>1</td>\n",
       "      <td>0</td>\n",
       "      <td>0</td>\n",
       "      <td>0</td>\n",
       "    </tr>\n",
       "  </tbody>\n",
       "</table>\n",
       "<p>4088 rows × 12 columns</p>\n",
       "</div>"
      ],
      "text/plain": [
       "       age  hypertension  heart_disease  avg_glucose_level   bmi  Urban/Rural  \\\n",
       "141   59.0             0              0             116.44  23.8            0   \n",
       "928   23.0             1              0              70.03  78.0            0   \n",
       "2748  54.0             0              0              92.34  29.4            0   \n",
       "2048  57.0             0              0              84.18  35.5            0   \n",
       "185   63.0             0              0             137.30  31.7            0   \n",
       "...    ...           ...            ...                ...   ...          ...   \n",
       "2171  18.0             0              0             120.58  21.5            0   \n",
       "2064  73.0             0              0              82.13  28.5            0   \n",
       "4002  28.0             0              0              99.07  17.6            0   \n",
       "3602  49.0             0              0             104.08  26.6            0   \n",
       "3683  80.0             0              1              95.49  31.6            0   \n",
       "\n",
       "      work_type_Never_worked  work_type_Private  work_type_Self_employed  \\\n",
       "141                        0                  1                        0   \n",
       "928                        0                  1                        0   \n",
       "2748                       0                  1                        0   \n",
       "2048                       0                  1                        0   \n",
       "185                        0                  1                        0   \n",
       "...                      ...                ...                      ...   \n",
       "2171                       0                  1                        0   \n",
       "2064                       0                  1                        0   \n",
       "4002                       0                  1                        0   \n",
       "3602                       0                  0                        0   \n",
       "3683                       0                  0                        1   \n",
       "\n",
       "      smoking_status_formerly_smoked  smoking_status_never_smoked  \\\n",
       "141                                0                            0   \n",
       "928                                0                            0   \n",
       "2748                               0                            0   \n",
       "2048                               0                            1   \n",
       "185                                1                            0   \n",
       "...                              ...                          ...   \n",
       "2171                               0                            1   \n",
       "2064                               0                            1   \n",
       "4002                               0                            1   \n",
       "3602                               0                            1   \n",
       "3683                               0                            0   \n",
       "\n",
       "      smoking_status_smokes  \n",
       "141                       1  \n",
       "928                       1  \n",
       "2748                      1  \n",
       "2048                      0  \n",
       "185                       0  \n",
       "...                     ...  \n",
       "2171                      0  \n",
       "2064                      0  \n",
       "4002                      0  \n",
       "3602                      0  \n",
       "3683                      0  \n",
       "\n",
       "[4088 rows x 12 columns]"
      ]
     },
     "execution_count": 152,
     "metadata": {},
     "output_type": "execute_result"
    }
   ],
   "source": [
    "\n",
    "X = df_model.drop('stroke', axis=1) # independent var\n",
    "y = df_model['stroke'] # Dependent var\n",
    "\n",
    "X_train, X_test, y_train, y_test = train_test_split(X, y, test_size=0.2, random_state=61)\n",
    "X_train"
   ]
  },
  {
   "cell_type": "markdown",
   "id": "7aeb2159-ff49-47ae-b776-e5a4a458436b",
   "metadata": {},
   "source": [
    "## Basic Machine Learning Models\n",
    "\n",
    "- Linear Regression\n",
    "- Lasso Regression\n",
    "- Ridge Regression\n",
    "- Logistic Regression\n",
    "\n",
    "\n"
   ]
  },
  {
   "cell_type": "markdown",
   "id": "b390718b-4162-483c-bc83-d740f4d67806",
   "metadata": {},
   "source": [
    "## let's try these models on our dataset"
   ]
  },
  {
   "cell_type": "markdown",
   "id": "fb5d3aec-3b5e-4c03-94e8-22ed858a45d3",
   "metadata": {},
   "source": [
    "## 1) Linear Regression"
   ]
  },
  {
   "cell_type": "markdown",
   "id": "11c4952f-d445-421c-92fa-298b5ba8b6d8",
   "metadata": {},
   "source": [
    "The logic behind the Linear Regression model lies in establishing a relationship between one or more independent variables (features) and a dependent variable (target) by fitting a straight line (or hyperplane in higher dimensions) that minimizes the error between actual and predicted values."
   ]
  },
  {
   "cell_type": "markdown",
   "id": "a4f557d9-095d-4fec-b305-cfc3ba625c5b",
   "metadata": {},
   "source": [
    "**Mathematical Equation**\n",
    "- Linear Regression models the relationship using the equation:<br>\n",
    "               y=β0 + (β1x1) + (β2 x2) + … + (βnxn ) + ϵ\n",
    "- y: Dependent variable (target)\n",
    "- 𝑥1,𝑥2,…,𝑥𝑛 \n",
    "​\n",
    " : Independent variables (features)\n",
    "\n",
    "- 𝛽0: Intercept (value of 𝑦\n",
    "y when all \n",
    "𝑥\n",
    "x values are 0)\n",
    "\n",
    "- 𝛽\n",
    "1\n",
    ",\n",
    "𝛽\n",
    "2\n",
    ",\n",
    "…\n",
    ",\n",
    "𝛽\n",
    "𝑛\n",
    ": Coefficients (weights that represent the impact of each \n",
    "𝑥\n",
    "x on \n",
    "𝑦\n",
    "y)\n",
    "- ϵ: Error term (accounts for variability not explained by the model)"
   ]
  },
  {
   "cell_type": "code",
   "execution_count": 153,
   "id": "e7a157ed-b72f-4f95-b10a-5a249aff3c05",
   "metadata": {},
   "outputs": [
    {
     "data": {
      "text/plain": [
       "22.446848932027503"
      ]
     },
     "execution_count": 153,
     "metadata": {},
     "output_type": "execute_result"
    }
   ],
   "source": [
    "linear_reg = LinearRegression()\n",
    "linear_reg.fit(X_train, y_train)\n",
    "linear_reg_predictions = linear_reg.predict(X_test)\n",
    "linear_reg_rmse = np.sqrt(mean_squared_error(y_test, linear_reg_predictions))\n",
    "linear_reg_rmse_percentage = linear_reg_rmse*100\n",
    "linear_reg_rmse_percentage"
   ]
  },
  {
   "cell_type": "code",
   "execution_count": 154,
   "id": "51d19a5d-47fd-4a8a-9e1c-dd8fb4d9c4a7",
   "metadata": {},
   "outputs": [
    {
     "data": {
      "text/plain": [
       "7.373711934575777"
      ]
     },
     "execution_count": 154,
     "metadata": {},
     "output_type": "execute_result"
    }
   ],
   "source": [
    "linear_reg.score(X_test, y_test)*100"
   ]
  },
  {
   "cell_type": "code",
   "execution_count": 125,
   "id": "e9906248-9b83-483b-857c-c5d0b6b8ac0e",
   "metadata": {},
   "outputs": [
    {
     "data": {
      "image/png": "[encoded data removed]",
      "text/plain": [
       "<Figure size 800x500 with 1 Axes>"
      ]
     },
     "metadata": {},
     "output_type": "display_data"
    }
   ],
   "source": [
    "# Calculate RMSE and R-squared score\n",
    "linear_reg_rmse_percentage = linear_reg_rmse * 100\n",
    "linear_reg_r2_score = linear_reg.score(X_test, y_test) * 100\n",
    "\n",
    "# Plotting RMSE and R-squared score side by side\n",
    "plt.figure(figsize=(8, 5))\n",
    "metrics = ['RMSE (%)', 'R-squared (%)']\n",
    "values = [linear_reg_rmse_percentage, linear_reg_r2_score]\n",
    "\n",
    "plt.bar(metrics, values, color=['skyblue', 'salmon'])\n",
    "plt.ylabel('Percentage (%)')\n",
    "plt.title('Linear Regression Model Performance Metrics')\n",
    "plt.ylim(0, max(values) * 1.2)  # Adding some padding to the top of the y-axis for better visualization\n",
    "plt.show()\n"
   ]
  },
  {
   "cell_type": "markdown",
   "id": "45f17cf6-df6c-4035-b4bc-20bd6c853320",
   "metadata": {},
   "source": [
    "**we got RMSE 22% and r-squared 9% for linear Regression**"
   ]
  },
  {
   "cell_type": "markdown",
   "id": "c460ffb6-e527-466b-bb5b-f55c98ef2f48",
   "metadata": {},
   "source": [
    "## 2) Lasso Regression"
   ]
  },
  {
   "cell_type": "markdown",
   "id": "c7d552e0-0c98-41fc-b28e-ccb0be23f35a",
   "metadata": {},
   "source": [
    "The logic behind the Lasso Regression model is similar to Linear Regression but with an added feature: regularization. This technique helps prevent overfitting and simplifies the model by reducing less important feature weights (coefficients) to zero."
   ]
  },
  {
   "cell_type": "code",
   "execution_count": 155,
   "id": "211f26e1-0833-484f-a2ad-a61589728ce2",
   "metadata": {},
   "outputs": [
    {
     "data": {
      "text/plain": [
       "23.154053340756683"
      ]
     },
     "execution_count": 155,
     "metadata": {},
     "output_type": "execute_result"
    }
   ],
   "source": [
    "lasso_reg = Lasso()\n",
    "lasso_reg.fit(X_train, y_train)\n",
    "lasso_reg_predictions = lasso_reg.predict(X_test)\n",
    "lasso_reg_rmse = np.sqrt(mean_squared_error(y_test, lasso_reg_predictions))\n",
    "lasso_reg_rmse*100"
   ]
  },
  {
   "cell_type": "code",
   "execution_count": 156,
   "id": "720c6e6a-134c-4e44-b50d-755afd572305",
   "metadata": {},
   "outputs": [
    {
     "data": {
      "text/plain": [
       "1.445252015176468"
      ]
     },
     "execution_count": 156,
     "metadata": {},
     "output_type": "execute_result"
    }
   ],
   "source": [
    "lasso_reg.score(X_test, y_test)*100"
   ]
  },
  {
   "cell_type": "code",
   "execution_count": 157,
   "id": "375da404-8931-443a-ad4a-510b657b2f2e",
   "metadata": {},
   "outputs": [
    {
     "data": {
      "image/png": "[encoded data removed]",
      "text/plain": [
       "<Figure size 800x500 with 1 Axes>"
      ]
     },
     "metadata": {},
     "output_type": "display_data"
    }
   ],
   "source": [
    "# Calculate RMSE and R-squared score in percentage\n",
    "lasso_reg_rmse_percentage = lasso_reg_rmse * 100\n",
    "lasso_reg_r2_score = lasso_reg.score(X_test, y_test) * 100\n",
    "\n",
    "# Plotting RMSE and R-squared score as a bar chart\n",
    "plt.figure(figsize=(8, 5))\n",
    "metrics = ['RMSE (%)', 'R-squared (%)']\n",
    "values = [lasso_reg_rmse_percentage, lasso_reg_r2_score]\n",
    "\n",
    "plt.bar(metrics, values, color=['lightblue', 'salmon'])\n",
    "plt.ylabel('Percentage (%)')\n",
    "plt.title('Lasso Regression Model Performance Metrics')\n",
    "plt.ylim(0, max(values) * 1.2)  # Adding some padding to the top for better visualization\n",
    "plt.show()"
   ]
  },
  {
   "cell_type": "markdown",
   "id": "0503bfb1-d079-44bd-9b85-186377a34e27",
   "metadata": {},
   "source": [
    "**we got RMSE 23% and r-squared 1% for lasso Regression**"
   ]
  },
  {
   "cell_type": "markdown",
   "id": "8fd5d7a2-77f6-4a74-a69c-f8688c72d49d",
   "metadata": {},
   "source": [
    "## 3) Rigid Regression"
   ]
  },
  {
   "cell_type": "markdown",
   "id": "5cadbd3b-d288-4565-bcb4-44e0b046f4cb",
   "metadata": {},
   "source": [
    "The logic behind Ridge Regression is to improve the performance of Linear Regression by addressing issues like overfitting and multicollinearity through regularization. It does this by adding a penalty to the size of the coefficients, which discourages extreme values.\n",
    "\n"
   ]
  },
  {
   "cell_type": "code",
   "execution_count": 158,
   "id": "424e2d5d-b6a6-4b8d-a25e-e8ff662f4d22",
   "metadata": {},
   "outputs": [
    {
     "data": {
      "text/plain": [
       "22.446642565041806"
      ]
     },
     "execution_count": 158,
     "metadata": {},
     "output_type": "execute_result"
    }
   ],
   "source": [
    "Rigid_reg = Ridge()\n",
    "Rigid_reg.fit(X_train, y_train)\n",
    "Rigid_reg_predictions = Rigid_reg.predict(X_test)\n",
    "Rigid_reg_rmse = np.sqrt(mean_squared_error(y_test, Rigid_reg_predictions))\n",
    "Rigid_reg_rmse*100\n"
   ]
  },
  {
   "cell_type": "code",
   "execution_count": 159,
   "id": "f87820b4-c9d7-43c7-9198-3ec5c345e2bb",
   "metadata": {},
   "outputs": [
    {
     "data": {
      "text/plain": [
       "7.375415061821366"
      ]
     },
     "execution_count": 159,
     "metadata": {},
     "output_type": "execute_result"
    }
   ],
   "source": [
    "Rigid_reg.score(X_test, y_test)*100"
   ]
  },
  {
   "cell_type": "code",
   "execution_count": 160,
   "id": "fd40c7ab-554a-4246-9b08-5a584fdb495f",
   "metadata": {},
   "outputs": [
    {
     "data": {
      "image/png": "[encoded data removed]",
      "text/plain": [
       "<Figure size 800x500 with 1 Axes>"
      ]
     },
     "metadata": {},
     "output_type": "display_data"
    }
   ],
   "source": [
    "# Calculate RMSE and R-squared score in percentage\n",
    "ridge_reg_rmse_percentage = Rigid_reg_rmse * 100\n",
    "ridge_reg_r2_score = Rigid_reg.score(X_test, y_test) * 100\n",
    "\n",
    "# Plotting RMSE and R-squared score for Ridge regression as a bar chart\n",
    "plt.figure(figsize=(8, 5))\n",
    "metrics = ['RMSE (%)', 'R-squared (%)']\n",
    "values = [ridge_reg_rmse_percentage, ridge_reg_r2_score]\n",
    "\n",
    "plt.bar(metrics, values, color=['lightgreen', 'coral'])\n",
    "plt.ylabel('Percentage (%)')\n",
    "plt.title('Ridge Regression Model Performance Metrics')\n",
    "plt.ylim(0, max(values) * 1.2)  # Adding some padding for better visualization\n",
    "plt.show()"
   ]
  },
  {
   "cell_type": "markdown",
   "id": "befbe6a3-6179-4838-8bf5-3dddd5b24ee7",
   "metadata": {},
   "source": [
    "**we got RMSE 22% and r-squared 9% for Rigid Regression**"
   ]
  },
  {
   "cell_type": "markdown",
   "id": "69249bab-47fd-4f3a-939d-da44d5821c45",
   "metadata": {},
   "source": [
    "## 4) Logistic Regression"
   ]
  },
  {
   "cell_type": "markdown",
   "id": "a8088ad9-bc0b-4764-814d-ab325753bdcd",
   "metadata": {},
   "source": [
    "The logic behind the Logistic Regression model lies in modeling the probability of an outcome that belongs to a specific class, especially for binary classification problems. While it has \"regression\" in its name, Logistic Regression is primarily a classification algorithm."
   ]
  },
  {
   "cell_type": "code",
   "execution_count": 161,
   "id": "dc281f41-7af9-4e5b-9dc2-e1d46d863e51",
   "metadata": {},
   "outputs": [
    {
     "data": {
      "text/plain": [
       "24.02705585201506"
      ]
     },
     "execution_count": 161,
     "metadata": {},
     "output_type": "execute_result"
    }
   ],
   "source": [
    "clf=LogisticRegression()\n",
    "clf.fit(X_train, y_train)\n",
    "Logistic_pred = clf.predict(X_test)\n",
    "Log_reg_rmse = np.sqrt(mean_squared_error(y_test, Logistic_pred))\n",
    "Log_reg_rmse*100"
   ]
  },
  {
   "cell_type": "code",
   "execution_count": 162,
   "id": "a714a881-9795-4d68-9b87-0619c8244784",
   "metadata": {},
   "outputs": [
    {
     "data": {
      "text/plain": [
       "94.22700587084148"
      ]
     },
     "execution_count": 162,
     "metadata": {},
     "output_type": "execute_result"
    }
   ],
   "source": [
    "clf.score(X_test, y_test)*100"
   ]
  },
  {
   "cell_type": "code",
   "execution_count": 163,
   "id": "c48e7428-acc6-422f-90f3-8af15a38e563",
   "metadata": {},
   "outputs": [
    {
     "data": {
      "image/png": "[encoded data removed]",
      "text/plain": [
       "<Figure size 800x500 with 1 Axes>"
      ]
     },
     "metadata": {},
     "output_type": "display_data"
    }
   ],
   "source": [
    "# Calculate RMSE and accuracy score in percentage\n",
    "log_reg_rmse_percentage = Log_reg_rmse * 100\n",
    "log_reg_accuracy_score = clf.score(X_test, y_test) * 100\n",
    "\n",
    "# Plotting RMSE and accuracy score as a bar chart\n",
    "plt.figure(figsize=(8, 5))\n",
    "metrics = ['RMSE (%)', 'Accuracy (%)']\n",
    "values = [log_reg_rmse_percentage, log_reg_accuracy_score]\n",
    "\n",
    "plt.bar(metrics, values, color=['skyblue', 'orange'])\n",
    "plt.ylabel('Percentage (%)')\n",
    "plt.title('Logistic Regression Model Performance Metrics')\n",
    "plt.ylim(0, max(values) * 1.2)  # Adding some padding for better visualization\n",
    "plt.show()\n"
   ]
  },
  {
   "cell_type": "markdown",
   "id": "f406864b-982b-430d-ba06-a4630b6b9d75",
   "metadata": {},
   "source": [
    "**After testing multiple models on our dataset, including Linear Regression, Lasso Regression, Ridge Regression, and Logistic Regression, we observed that Logistic Regression achieved the highest accuracy. Given this high accuracy and the suitability of Logistic Regression for binary classification tasks, we conclude that it is the best-performing model for our analysis.**\n",
    "\n",
    "**Logistic Regression not only provides strong predictive accuracy but also offers interpretability, computational efficiency, and robustness to overfitting, especially when regularization is applied. These qualities make it an ideal choice for our dataset, allowing us to effectively predict the likelihood of stroke occurrences based on the features provided.**\n"
   ]
  },
  {
   "cell_type": "markdown",
   "id": "9606ee06-f036-4c2c-822b-86ebf319c9db",
   "metadata": {},
   "source": [
    "# Confusion Matrix"
   ]
  },
  {
   "cell_type": "code",
   "execution_count": 165,
   "id": "536a56ee-6938-4647-a217-2306be973db3",
   "metadata": {},
   "outputs": [
    {
     "data": {
      "image/png": "[encoded data removed]",
      "text/plain": [
       "<Figure size 640x480 with 2 Axes>"
      ]
     },
     "metadata": {},
     "output_type": "display_data"
    }
   ],
   "source": [
    "from sklearn import metrics\n",
    "\n",
    "Confusion_matrix = metrics.confusion_matrix(y_test, Logistic_pred)\n",
    "\n",
    "cm_display = metrics.ConfusionMatrixDisplay(confusion_matrix = Confusion_matrix, display_labels = [0, 1])\n",
    "\n",
    "cm_display.plot()\n",
    "plt.show()"
   ]
  },
  {
   "cell_type": "code",
   "execution_count": 135,
   "id": "9fa5b9e0-bdbc-4fe6-926e-e50bb6e6a9d9",
   "metadata": {},
   "outputs": [],
   "source": [
    "tp = Confusion_matrix[0][0]\n",
    "fn = Confusion_matrix[0][1]\n",
    "fp = Confusion_matrix[1][0]\n",
    "tn = Confusion_matrix[1][1]"
   ]
  },
  {
   "cell_type": "markdown",
   "id": "01d06586-a05b-4c3d-98b9-03b01fdf9cc8",
   "metadata": {},
   "source": [
    "# F1 Score, Precision and Recall"
   ]
  },
  {
   "cell_type": "code",
   "execution_count": 136,
   "id": "0738e3d6-4b36-4ba2-a4c5-d751cda010ec",
   "metadata": {},
   "outputs": [
    {
     "data": {
      "text/plain": [
       "0.0"
      ]
     },
     "execution_count": 136,
     "metadata": {},
     "output_type": "execute_result"
    }
   ],
   "source": [
    "from sklearn.metrics import f1_score\n",
    "\n",
    "f1_score(y_test, Logistic_pred)\n"
   ]
  },
  {
   "cell_type": "code",
   "execution_count": 137,
   "id": "38d56fcd-2bc8-479c-a30a-ac1b7ef34350",
   "metadata": {},
   "outputs": [],
   "source": [
    "from sklearn.metrics import precision_score\n",
    "from sklearn.metrics import recall_score"
   ]
  },
  {
   "cell_type": "code",
   "execution_count": 138,
   "id": "0512df32-d234-4362-9665-24295972cef1",
   "metadata": {},
   "outputs": [
    {
     "data": {
      "text/plain": [
       "0.0"
      ]
     },
     "execution_count": 138,
     "metadata": {},
     "output_type": "execute_result"
    }
   ],
   "source": [
    "precision_score(y_test, Logistic_pred)"
   ]
  },
  {
   "cell_type": "code",
   "execution_count": 139,
   "id": "16b7027a-3d34-4fdc-87fd-8c4c806da601",
   "metadata": {},
   "outputs": [
    {
     "data": {
      "text/plain": [
       "0.0"
      ]
     },
     "execution_count": 139,
     "metadata": {},
     "output_type": "execute_result"
    }
   ],
   "source": [
    "recall_score(y_test, Logistic_pred)"
   ]
  },
  {
   "cell_type": "code",
   "execution_count": 140,
   "id": "eda3a007-134f-4df3-8d91-4d39c52c82a8",
   "metadata": {},
   "outputs": [],
   "source": [
    "from sklearn.metrics import precision_recall_curve"
   ]
  },
  {
   "cell_type": "code",
   "execution_count": 141,
   "id": "052c2eec-ee72-4753-8d60-ee374e7abcc5",
   "metadata": {},
   "outputs": [
    {
     "data": {
      "text/plain": [
       "array([0], dtype=int64)"
      ]
     },
     "execution_count": 141,
     "metadata": {},
     "output_type": "execute_result"
    }
   ],
   "source": [
    "precision, recall, thresholds = precision_recall_curve(y_test, Logistic_pred)\n",
    "thresholds"
   ]
  },
  {
   "cell_type": "markdown",
   "id": "50c81c04-0786-4d95-8734-1e8a36ef0d14",
   "metadata": {},
   "source": [
    "# Precision Recall curve"
   ]
  },
  {
   "cell_type": "code",
   "execution_count": 142,
   "id": "fbd71a24-bce9-4c71-8824-113531ee6fd0",
   "metadata": {},
   "outputs": [
    {
     "data": {
      "text/plain": [
       "Text(0.5, 1.0, '2-class Precision-Recall curve')"
      ]
     },
     "execution_count": 142,
     "metadata": {},
     "output_type": "execute_result"
    },
    {
     "data": {
      "image/png": "[encoded data removed]",
      "text/plain": [
       "<Figure size 640x480 with 1 Axes>"
      ]
     },
     "metadata": {},
     "output_type": "display_data"
    }
   ],
   "source": [
    "from sklearn.metrics import PrecisionRecallDisplay\n",
    "\n",
    "display = PrecisionRecallDisplay.from_estimator(\n",
    "    clf, X_test, y_test, name=\"Logistic Regression\", plot_chance_level=True)\n",
    "display.ax_.set_title(\"2-class Precision-Recall curve\")"
   ]
  },
  {
   "cell_type": "code",
   "execution_count": null,
   "id": "d525ad83-b1d1-4185-b458-02a35208aa5d",
   "metadata": {},
   "outputs": [],
   "source": []
  }
 ],
 "metadata": {
  "kernelspec": {
   "display_name": "Python 3 (ipykernel)",
   "language": "python",
   "name": "python3"
  },
  "language_info": {
   "codemirror_mode": {
    "name": "ipython",
    "version": 3
   },
   "file_extension": ".py",
   "mimetype": "text/x-python",
   "name": "python",
   "nbconvert_exporter": "python",
   "pygments_lexer": "ipython3",
   "version": "3.12.4"
  }
 },
 "nbformat": 4,
 "nbformat_minor": 5
}
